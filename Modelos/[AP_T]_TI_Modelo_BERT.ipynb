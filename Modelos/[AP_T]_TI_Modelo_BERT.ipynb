{
  "nbformat": 4,
  "nbformat_minor": 0,
  "metadata": {
    "colab": {
      "provenance": [],
      "mount_file_id": "1wMKn9EgtkyfT6PoJsFj0i0_z_5EzsXln",
      "authorship_tag": "ABX9TyPGkxM2C//+7PX+nVtNYxNb",
      "include_colab_link": true
    },
    "kernelspec": {
      "name": "python3",
      "display_name": "Python 3"
    },
    "language_info": {
      "name": "python"
    }
  },
  "cells": [
    {
      "cell_type": "markdown",
      "metadata": {
        "id": "view-in-github",
        "colab_type": "text"
      },
      "source": [
        "<a href=\"https://colab.research.google.com/github/EricRibeiroAlves/DeteccaoFakeNews/blob/main/Modelos/%5BAP_T%5D_TI_Modelo_BERT.ipynb\" target=\"_parent\"><img src=\"https://colab.research.google.com/assets/colab-badge.svg\" alt=\"Open In Colab\"/></a>"
      ]
    },
    {
      "cell_type": "markdown",
      "source": [
        "#Importação de Bibliotecas"
      ],
      "metadata": {
        "id": "dW-q8izkJg18"
      }
    },
    {
      "cell_type": "code",
      "source": [
        "import pandas as pd\n",
        "import numpy as np\n",
        "import tensorflow as tf\n",
        "from sklearn.model_selection import train_test_split\n",
        "from sklearn.preprocessing import LabelEncoder\n",
        "from sklearn.metrics import accuracy_score, f1_score, roc_auc_score, classification_report\n",
        "from transformers import BertTokenizer, TFBertForSequenceClassification\n",
        "from google.colab import drive"
      ],
      "metadata": {
        "id": "CfodbztXJmlG"
      },
      "execution_count": null,
      "outputs": []
    },
    {
      "cell_type": "markdown",
      "source": [
        "#Tratamento"
      ],
      "metadata": {
        "id": "jhwWXSXcJsB_"
      }
    },
    {
      "cell_type": "code",
      "source": [
        "# Importação do Dataset ISOT Fake News Dataset\n",
        "drive.mount('/content/drive')\n",
        "# Dataset\n",
        "dat_fake = \"/content/drive/MyDrive/Eng. Controle e Automação/8º Semestre/AP/dataset_FakeNews/Fake.csv\"\n",
        "dat_real = \"/content/drive/MyDrive/Eng. Controle e Automação/8º Semestre/AP/dataset_FakeNews/True.csv\"\n",
        "\n",
        "dt_fake = pd.read_csv(dat_fake)\n",
        "dt_real = pd.read_csv(dat_real)\n",
        "\n",
        "dt_fake['label'] = 'fake'\n",
        "dt_real['label'] = 'real'\n",
        "df = pd.concat([dt_fake, dt_real], ignore_index=True)\n",
        "df = df[(df['subject'] == 'News') | (df['subject'] == 'worldnews')]\n",
        "\n",
        "# Verificar valores ausentes e balanceamento\n",
        "df = df.dropna()  # Remover entradas com valores nulos\n",
        "print(df['label'].value_counts())  # Checar balanceamento"
      ],
      "metadata": {
        "id": "6j20W8R9J2qe"
      },
      "execution_count": null,
      "outputs": []
    },
    {
      "cell_type": "markdown",
      "source": [
        "# Pré-Processamento"
      ],
      "metadata": {
        "id": "X3WsdibdJ4KC"
      }
    },
    {
      "cell_type": "code",
      "source": [
        "# Codificar os rótulos\n",
        "label_encoder = LabelEncoder()\n",
        "df['label'] = label_encoder.fit_transform(df['label'])  # fake=0, real=1\n",
        "\n",
        "# Divisão dos dados\n",
        "x_train, x_test, y_train, y_test = train_test_split(\n",
        "    df['text'], df['label'], test_size=0.3, random_state=42\n",
        ")\n",
        "\n",
        "# Tokenização\n",
        "modelo_bert = 'bert-base-uncased'\n",
        "tokenizer = BertTokenizer.from_pretrained(modelo_bert)\n",
        "\n",
        "def tokenizar_dados(textos, labels=None, max_length=256):\n",
        "    encodings = tokenizer(\n",
        "        list(textos),\n",
        "        truncation=True,\n",
        "        padding=True,\n",
        "        max_length=max_length,\n",
        "        return_tensors='tf'\n",
        "    )\n",
        "    if labels is not None:\n",
        "        return tf.data.Dataset.from_tensor_slices((dict(encodings), labels)).batch(16)\n",
        "    return tf.data.Dataset.from_tensor_slices(dict(encodings)).batch(16)\n",
        "\n",
        "# Preparar datasets\n",
        "train_data = tokenizar_dados(x_train, y_train)\n",
        "test_data = tokenizar_dados(x_test, y_test)"
      ],
      "metadata": {
        "id": "ts_uZyi6KKw9"
      },
      "execution_count": null,
      "outputs": []
    },
    {
      "cell_type": "markdown",
      "source": [
        "# Modelo BERT"
      ],
      "metadata": {
        "id": "Rdrr0ymRKMgH"
      }
    },
    {
      "cell_type": "code",
      "source": [
        "# Modelo BERT\n",
        "modelo = TFBertForSequenceClassification.from_pretrained(\n",
        "    modelo_bert,\n",
        "    num_labels=2\n",
        ")\n",
        "\n",
        "# Compilação\n",
        "modelo.compile(\n",
        "    optimizer=tf.keras.optimizers.Adam(learning_rate=0.1),  # Taxa ajustada\n",
        "    loss=tf.keras.losses.SparseCategoricalCrossentropy(from_logits=True),\n",
        "    metrics=['accuracy']\n",
        ")\n",
        "\n",
        "# Treinamento\n",
        "history = modelo.fit(\n",
        "    train_data,\n",
        "    epochs=1,  # Ajustar se necessário\n",
        "    validation_data=test_data,\n",
        "    verbose=1\n",
        ")\n",
        "\n"
      ],
      "metadata": {
        "colab": {
          "base_uri": "https://localhost:8080/",
          "height": 219
        },
        "id": "5_99GGQl4-DJ",
        "outputId": "3cd9c5fd-7b58-41f4-99a4-aee551f52d69"
      },
      "execution_count": 1,
      "outputs": [
        {
          "output_type": "error",
          "ename": "NameError",
          "evalue": "name 'TFBertForSequenceClassification' is not defined",
          "traceback": [
            "\u001b[0;31m---------------------------------------------------------------------------\u001b[0m",
            "\u001b[0;31mNameError\u001b[0m                                 Traceback (most recent call last)",
            "\u001b[0;32m<ipython-input-1-ff67602c5bf4>\u001b[0m in \u001b[0;36m<cell line: 2>\u001b[0;34m()\u001b[0m\n\u001b[1;32m      1\u001b[0m \u001b[0;31m# Modelo BERT\u001b[0m\u001b[0;34m\u001b[0m\u001b[0;34m\u001b[0m\u001b[0m\n\u001b[0;32m----> 2\u001b[0;31m modelo = TFBertForSequenceClassification.from_pretrained(\n\u001b[0m\u001b[1;32m      3\u001b[0m     \u001b[0mmodelo_bert\u001b[0m\u001b[0;34m,\u001b[0m\u001b[0;34m\u001b[0m\u001b[0;34m\u001b[0m\u001b[0m\n\u001b[1;32m      4\u001b[0m     \u001b[0mnum_labels\u001b[0m\u001b[0;34m=\u001b[0m\u001b[0;36m2\u001b[0m\u001b[0;34m\u001b[0m\u001b[0;34m\u001b[0m\u001b[0m\n\u001b[1;32m      5\u001b[0m )\n",
            "\u001b[0;31mNameError\u001b[0m: name 'TFBertForSequenceClassification' is not defined"
          ]
        }
      ]
    },
    {
      "cell_type": "markdown",
      "source": [
        "#Validação"
      ],
      "metadata": {
        "id": "fwkkZNdqKVSm"
      }
    },
    {
      "cell_type": "code",
      "source": [
        "# Avaliação\n",
        "logits = modelo.predict(test_data).logits\n",
        "y_pred = tf.argmax(logits, axis=1).numpy()\n",
        "\n",
        "# Métricas\n",
        "accuracy = accuracy_score(y_test, y_pred)\n",
        "f1 = f1_score(y_test, y_pred, average='weighted')\n",
        "roc_auc = roc_auc_score(y_test, tf.nn.softmax(logits, axis=1)[:, 1].numpy())\n",
        "\n",
        "print(f\"Acurácia: {accuracy:.4f}\")\n",
        "print(f\"F1-Score: {f1:.4f}\")\n",
        "print(f\"ROC-AUC: {roc_auc:.4f}\")\n",
        "\n",
        "# Relatório detalhado\n",
        "print(classification_report(y_test, y_pred, target_names=label_encoder.classes_))\n"
      ],
      "metadata": {
        "id": "jSTYRie9KVxm"
      },
      "execution_count": null,
      "outputs": []
    }
  ]
}