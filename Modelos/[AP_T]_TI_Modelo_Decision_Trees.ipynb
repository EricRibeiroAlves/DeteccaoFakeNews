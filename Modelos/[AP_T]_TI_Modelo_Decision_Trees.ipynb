{
  "nbformat": 4,
  "nbformat_minor": 0,
  "metadata": {
    "colab": {
      "provenance": [],
      "mount_file_id": "1wMKn9EgtkyfT6PoJsFj0i0_z_5EzsXln",
      "authorship_tag": "ABX9TyOeuY2e24oCzks9SZ7S/8FV",
      "include_colab_link": true
    },
    "kernelspec": {
      "name": "python3",
      "display_name": "Python 3"
    },
    "language_info": {
      "name": "python"
    }
  },
  "cells": [
    {
      "cell_type": "markdown",
      "metadata": {
        "id": "view-in-github",
        "colab_type": "text"
      },
      "source": [
        "<a href=\"https://colab.research.google.com/github/EricRibeiroAlves/DeteccaoFakeNews/blob/main/Modelos/%5BAP_T%5D_TI_Modelo_Decision_Trees.ipynb\" target=\"_parent\"><img src=\"https://colab.research.google.com/assets/colab-badge.svg\" alt=\"Open In Colab\"/></a>"
      ]
    },
    {
      "cell_type": "code",
      "source": [
        "# Importação de Libs\n",
        "import pandas as pd\n",
        "from sklearn.model_selection import train_test_split\n",
        "from sklearn.preprocessing import LabelEncoder\n",
        "from sklearn.feature_extraction.text import TfidfVectorizer\n",
        "from sklearn.tree import DecisionTreeClassifier\n",
        "from sklearn.metrics import accuracy_score, f1_score, roc_auc_score, classification_report\n",
        "from google.colab import drive\n",
        "\n",
        "# Importação do Dataset ISOT Fake News Dataset\n",
        "\n",
        "# Carregar os dados\n",
        "drive.mount('/content/drive')\n",
        "dat_fake = \"/content/drive/MyDrive/Eng. Controle e Automação/8º Semestre/AP/dataset_FakeNews/Fake.csv\"\n",
        "dat_real = \"/content/drive/MyDrive/Eng. Controle e Automação/8º Semestre/AP/dataset_FakeNews/True.csv\"\n",
        "dt_fake = pd.read_csv(dat_fake)\n",
        "dt_real = pd.read_csv(dat_real)\n",
        "\n",
        "dt_fake['label'] = 'fake'\n",
        "dt_real['label'] = 'real'\n",
        "\n",
        "dt = pd.concat([dt_fake, dt_real], ignore_index=True)\n",
        "\n",
        "# Filtro p/ Variáveis de Interesse\n",
        "df = dt[['title', 'text', 'label']]\n",
        "\n",
        "# Tratamento e Criação\n",
        "\n",
        "# **2 - Verificação de valores nulos**\n",
        "print(\"Valores ausentes antes do tratamento:\")\n",
        "print(df.isnull().sum())\n",
        "\n",
        "# Remover linhas com valores nulos\n",
        "df = df.dropna()\n",
        "\n",
        "print(\"Valores ausentes após o tratamento:\")\n",
        "print(df.isnull().sum())\n",
        "\n",
        "# Codificar os rótulos\n",
        "label_encoder = LabelEncoder()\n",
        "df['label'] = label_encoder.fit_transform(df['label'])\n",
        "\n",
        "# Divisão dos dados\n",
        "x_train, x_test, y_train, y_test = train_test_split(df['text'], df['label'], test_size=0.3, random_state=42)\n",
        "\n",
        "# Vetorização com TF-IDF\n",
        "tfidf_vectorizer = TfidfVectorizer(max_features=2500, stop_words='english')\n",
        "x_train_tfidf = tfidf_vectorizer.fit_transform(x_train)\n",
        "x_test_tfidf = tfidf_vectorizer.transform(x_test)\n",
        "\n",
        "# Criação e treinamento do modelo Decision Tree\n",
        "decision_tree = DecisionTreeClassifier(max_depth=5, random_state=42)\n",
        "decision_tree.fit(x_train_tfidf, y_train)\n",
        "\n",
        "# Previsão e Resultados\n",
        "\n",
        "# Previsões nos dados de teste\n",
        "y_pred = decision_tree.predict(x_test_tfidf)\n",
        "\n",
        "# Avaliação do modelo\n",
        "accuracy = accuracy_score(y_test, y_pred)\n",
        "f1 = f1_score(y_test, y_pred, average='weighted')\n",
        "roc_auc = roc_auc_score(y_test, decision_tree.predict_proba(x_test_tfidf)[:, 1])\n",
        "\n",
        "print(\"Métricas do modelo Decision Tree:\")\n",
        "print(f\"Acurácia: {accuracy:.4f}\")\n",
        "print(f\"F1-Score: {f1:.4f}\")\n",
        "print(f\"ROC-AUC: {roc_auc:.4f}\")\n",
        "\n",
        "# Relatório de classificação detalhado\n",
        "target_names = [str(cls) for cls in label_encoder.classes_]\n",
        "print(classification_report(y_test, y_pred, target_names=target_names))\n",
        "\n",
        "from sklearn.metrics import ConfusionMatrixDisplay\n",
        "import matplotlib.pyplot as plt\n",
        "ConfusionMatrixDisplay.from_estimator(decision_tree, x_test_tfidf, y_test, display_labels=label_encoder.classes_, cmap='Purples')\n",
        "plt.show()\n",
        "\n",
        "# **4 - Função para classificar uma notícia com validação**\n",
        "def classificar_noticia(texto_noticia):\n",
        "    # Validar entrada\n",
        "    if not texto_noticia.strip():\n",
        "        return \"Texto inválido. Por favor, insira um texto para classificar.\"\n",
        "\n",
        "    # Transformar a notícia em TF-IDF\n",
        "    texto_tfidf = tfidf_vectorizer.transform([texto_noticia])\n",
        "\n",
        "    # Fazer a previsão com o modelo treinado\n",
        "    previsao = decision_tree.predict(texto_tfidf)\n",
        "\n",
        "    # Decodificar o rótulo (0 = real, 1 = fake)\n",
        "    resultado = label_encoder.inverse_transform(previsao)\n",
        "\n",
        "    # Retornar o resultado\n",
        "    if resultado[0] == 'fake':\n",
        "        return \"A notícia é FAKE!\"\n",
        "    else:\n",
        "        return \"A notícia é REAL!\"\n",
        "\n",
        "\n"
      ],
      "metadata": {
        "colab": {
          "base_uri": "https://localhost:8080/",
          "height": 889
        },
        "id": "iWH1zKJoJX3_",
        "outputId": "da6a1d31-23b1-4de2-c86a-05d3352f4e07"
      },
      "execution_count": null,
      "outputs": [
        {
          "output_type": "stream",
          "name": "stdout",
          "text": [
            "Drive already mounted at /content/drive; to attempt to forcibly remount, call drive.mount(\"/content/drive\", force_remount=True).\n",
            "Valores ausentes antes do tratamento:\n",
            "title    0\n",
            "text     0\n",
            "label    0\n",
            "dtype: int64\n",
            "Valores ausentes após o tratamento:\n",
            "title    0\n",
            "text     0\n",
            "label    0\n",
            "dtype: int64\n",
            "Métricas do modelo Decision Tree:\n",
            "Acurácia: 0.9952\n",
            "F1-Score: 0.9952\n",
            "ROC-AUC: 0.9957\n",
            "              precision    recall  f1-score   support\n",
            "\n",
            "        fake       1.00      0.99      1.00      7091\n",
            "        real       0.99      1.00      0.99      6379\n",
            "\n",
            "    accuracy                           1.00     13470\n",
            "   macro avg       1.00      1.00      1.00     13470\n",
            "weighted avg       1.00      1.00      1.00     13470\n",
            "\n"
          ]
        },
        {
          "output_type": "display_data",
          "data": {
            "text/plain": [
              "<Figure size 640x480 with 2 Axes>"
            ],
            "image/png": "[encoded data removed]"
          },
          "metadata": {}
        }
      ]
    },
    {
      "cell_type": "code",
      "source": [
        "# Exemplo de uso:\n",
        "texto_entrada = input(\"Digite o texto da notícia para classificar: \")\n",
        "\n",
        "# Classificar a notícia\n",
        "resultado = classificar_noticia(texto_entrada)\n",
        "\n",
        "# Mostrar o resultado\n",
        "print(resultado)"
      ],
      "metadata": {
        "colab": {
          "base_uri": "https://localhost:8080/"
        },
        "id": "O5Lx1D6KLb8k",
        "outputId": "c08660ed-0814-4765-f813-8a57889134c5"
      },
      "execution_count": null,
      "outputs": [
        {
          "output_type": "stream",
          "name": "stdout",
          "text": [
            "Digite o texto da notícia para classificar: Donald Trump just couldn t wish all Americans a Happy New Year and leave it at that. Instead, he had to give a shout out to his enemies, haters and the very dishonest fake news media. The former reality show star had just one job to do and he couldn t do it. As our Country rapidly grows stronger and smarter, I want to wish all of my friends, supporters, enemies, haters, and even the very dishonest Fake News Media, a Happy and Healthy New Year, President Angry Pants tweeted. 2018 will be a great year for America! As our Country rapidly grows stronger and smarter, I want to wish all of my friends, supporters, enemies, haters, and even the very dishonest Fake News Media, a Happy and Healthy New Year. 2018 will be a great year for America! Donald J. Trump (@realDonaldTrump) December 31, 2017Trump s tweet went down about as welll as you d expect.What kind of president sends a New Year s greeting like this despicable, petty, infantile gibberish? Only Trump! His lack of decency won t even allow him to rise above the gutter long enough to wish the American citizens a happy new year! Bishop Talbert Swan (@TalbertSwan) December 31, 2017no one likes you Calvin (@calvinstowell) December 31, 2017Your impeachment would make 2018 a great year for America, but I ll also accept regaining control of Congress. Miranda Yaver (@mirandayaver) December 31, 2017Do you hear yourself talk? When you have to include that many people that hate you you have to wonder? Why do the they all hate me? Alan Sandoval (@AlanSandoval13) December 31, 2017Who uses the word Haters in a New Years wish?? Marlene (@marlene399) December 31, 2017You can t just say happy new year? Koren pollitt (@Korencarpenter) December 31, 2017Here s Trump s New Year s Eve tweet from 2016.Happy New Year to all, including to my many enemies and those who have fought me and lost so badly they just don t know what to do. Love! Donald J. Trump (@realDonaldTrump) December 31, 2016This is nothing new for Trump. He s been doing this for years.Trump has directed messages to his enemies and haters for New Year s, Easter, Thanksgiving, and the anniversary of 9/11. pic.twitter.com/4FPAe2KypA Daniel Dale (@ddale8) December 31, 2017Trump s holiday tweets are clearly not presidential.How long did he work at Hallmark before becoming President? Steven Goodine (@SGoodine) December 31, 2017He s always been like this . . . the only difference is that in the last few years, his filter has been breaking down. Roy Schulze (@thbthttt) December 31, 2017Who, apart from a teenager uses the term haters? Wendy (@WendyWhistles) December 31, 2017he s a fucking 5 year old Who Knows (@rainyday80) December 31, 2017So, to all the people who voted for this a hole thinking he would change once he got into power, you were wrong! 70-year-old men don t change and now he s a year older.Photo by Andrew Burton/Getty Images.\n",
            "A notícia é FAKE!\n"
          ]
        }
      ]
    }
  ]
}