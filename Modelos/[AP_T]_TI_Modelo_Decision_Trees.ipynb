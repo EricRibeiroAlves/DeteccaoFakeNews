{
  "nbformat": 4,
  "nbformat_minor": 0,
  "metadata": {
    "colab": {
      "provenance": [],
      "mount_file_id": "1wMKn9EgtkyfT6PoJsFj0i0_z_5EzsXln",
      "authorship_tag": "ABX9TyMew6rZ+4rpz47hG1lqYKxq",
      "include_colab_link": true
    },
    "kernelspec": {
      "name": "python3",
      "display_name": "Python 3"
    },
    "language_info": {
      "name": "python"
    }
  },
  "cells": [
    {
      "cell_type": "markdown",
      "metadata": {
        "id": "view-in-github",
        "colab_type": "text"
      },
      "source": [
        "<a href=\"https://colab.research.google.com/github/EricRibeiroAlves/DeteccaoFakeNews/blob/main/Modelos/%5BAP_T%5D_TI_Modelo_Decision_Trees.ipynb\" target=\"_parent\"><img src=\"https://colab.research.google.com/assets/colab-badge.svg\" alt=\"Open In Colab\"/></a>"
      ]
    },
    {
      "cell_type": "markdown",
      "source": [],
      "metadata": {
        "id": "w6VAhNy8NTfs"
      }
    },
    {
      "cell_type": "code",
      "source": [
        "import pandas as pd\n",
        "import numpy as np\n",
        "from sklearn.model_selection import train_test_split, GridSearchCV\n",
        "from sklearn.preprocessing import LabelEncoder\n",
        "from sklearn.feature_extraction.text import TfidfVectorizer\n",
        "from sklearn.tree import DecisionTreeClassifier\n",
        "from sklearn.metrics import classification_report, confusion_matrix\n",
        "import matplotlib.pyplot as plt\n",
        "import seaborn as sns\n",
        "from google.colab import drive\n",
        "drive.mount('/content/drive')\n",
        "\n",
        "# Carregamento dos Dados\n",
        "dat_fake = \"/content/drive/MyDrive/Eng. Controle e Automação/8º Semestre/AP/dataset_FakeNews/Fake.csv\"\n",
        "dat_real = \"/content/drive/MyDrive/Eng. Controle e Automação/8º Semestre/AP/dataset_FakeNews/True.csv\"\n",
        "\n",
        "dt_fake = pd.read_csv(dat_fake)\n",
        "dt_real = pd.read_csv(dat_real)\n",
        "\n",
        "dt_fake['label'] = 'fake'\n",
        "dt_real['label'] = 'real'\n",
        "\n",
        "dt = pd.concat([dt_fake, dt_real], ignore_index=True)\n",
        "dt = dt[(dt['subject'] == 'News') | (dt['subject'] == 'worldnews')]\n",
        "\n",
        "# Pré-processamento\n",
        "df = dt[['title', 'text', 'label']]\n",
        "df = df.dropna()\n",
        "df['full_text'] = df['title'] + ' ' + df['text']\n",
        "\n",
        "label_encoder = LabelEncoder()\n",
        "df['label'] = label_encoder.fit_transform(df['label'])\n",
        "\n",
        "# Separar features e labels\n",
        "X = df['full_text']\n",
        "y = df['label']\n",
        "\n",
        "# Dividir dados\n",
        "X_train, X_test, y_train, y_test = train_test_split(\n",
        "    X, y, test_size=0.2, random_state=42, stratify=y\n",
        ")\n",
        "\n",
        "# Criar Pipeline\n",
        "tfidf = TfidfVectorizer(\n",
        "    stop_words='english',\n",
        "    max_features=5000,\n",
        "    ngram_range=(1, 2)  # Considerar bigramas\n",
        ")\n",
        "X_train_tfidf = tfidf.fit_transform(X_train)\n",
        "X_test_tfidf = tfidf.transform(X_test)\n",
        "\n",
        "clf = DecisionTreeClassifier(random_state=42)\n",
        "param_grid = {\n",
        "    'max_depth': [50, 100, 150, None],\n",
        "    'min_samples_split': [2, 5, 10],\n",
        "    'min_samples_leaf': [1, 2, 4],\n",
        "    'criterion': ['gini', 'entropy']\n",
        "}\n",
        "\n",
        "grid_search = GridSearchCV(\n",
        "    clf,\n",
        "    param_grid,\n",
        "    cv=5,\n",
        "    scoring='accuracy',\n",
        "    n_jobs=-1\n",
        ")\n",
        "\n",
        "# Treinamento\n",
        "grid_search.fit(X_train_tfidf, y_train)\n",
        "\n",
        "# Melhores parâmetros\n",
        "print(\"Melhores Parâmetros:\")\n",
        "print(grid_search.best_params_)\n",
        "\n",
        "# Predições\n",
        "y_pred = grid_search.predict(X_test_tfidf)\n",
        "\n",
        "# Métricas\n",
        "print(\"\\nRelatório de Classificação:\")\n",
        "print(classification_report(y_test, y_pred))\n",
        "\n",
        "# Matriz de Confusão\n",
        "cm = confusion_matrix(y_test, y_pred)\n",
        "plt.figure(figsize=(8, 6))\n",
        "sns.heatmap(cm, annot=True, fmt='d', cmap='Blues')\n",
        "plt.title('Matriz de Confusão')\n",
        "plt.xlabel('Predito')\n",
        "plt.ylabel('Real')\n",
        "plt.show()\n"
      ],
      "metadata": {
        "id": "VBY2408FL5hG",
        "outputId": "e90d86f4-c12e-4875-aabf-5e568004a954",
        "colab": {
          "base_uri": "https://localhost:8080/"
        }
      },
      "execution_count": null,
      "outputs": [
        {
          "output_type": "stream",
          "name": "stdout",
          "text": [
            "Drive already mounted at /content/drive; to attempt to forcibly remount, call drive.mount(\"/content/drive\", force_remount=True).\n"
          ]
        }
      ]
    }
  ]
}